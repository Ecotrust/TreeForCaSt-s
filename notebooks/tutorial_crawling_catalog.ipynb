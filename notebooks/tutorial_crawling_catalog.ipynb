{
 "cells": [
  {
   "cell_type": "code",
   "execution_count": 1,
   "metadata": {},
   "outputs": [],
   "source": [
    "import json\n",
    "\n",
    "from pystac import Catalog, get_stac_version\n",
    "from pystac.extensions.eo import EOExtension\n",
    "from pystac.extensions.label import LabelExtension"
   ]
  },
  {
   "cell_type": "markdown",
   "metadata": {},
   "source": [
    "Browse the catalog with [radiantearth stac-browser](https://radiantearth.github.io/stac-browser/#/external/fbstac-stands.s3.us-east-1.amazonaws.com/fbstac-stands/catalog.json?.language=en)"
   ]
  },
  {
   "cell_type": "code",
   "execution_count": 2,
   "metadata": {},
   "outputs": [],
   "source": [
    "# Read the example catalog\n",
    "root_catalog = Catalog.from_file('https://fbstac-stands.s3.us-east-1.amazonaws.com/fbstac-stands/catalog.json')"
   ]
  },
  {
   "cell_type": "code",
   "execution_count": 3,
   "metadata": {},
   "outputs": [
    {
     "name": "stdout",
     "output_type": "stream",
     "text": [
      "ID: fbstands\n",
      "Title: Forest stands STAC catalog\n",
      "Description: A STAC implementation for modeling forest attributes\n"
     ]
    }
   ],
   "source": [
    "# Print some basic metadata from the Catalog\n",
    "print(f\"ID: {root_catalog.id}\")\n",
    "print(f\"Title: {root_catalog.title or 'N/A'}\")\n",
    "print(f\"Description: {root_catalog.description or 'N/A'}\")"
   ]
  },
  {
   "cell_type": "code",
   "execution_count": 3,
   "metadata": {},
   "outputs": [
    {
     "name": "stdout",
     "output_type": "stream",
     "text": [
      "* <Catalog id=fbstands>\n",
      "    * <Collection id=3dep>\n",
      "      * <Item id=107225_WA_3DEP_10mDEM>\n",
      "      * <Item id=109945_WA_3DEP_10mDEM>\n",
      "      * <Item id=109965_WA_3DEP_10mDEM>\n",
      "      * <Item id=109967_WA_3DEP_10mDEM>\n",
      "      * <Item id=107762_WA_3DEP_10mDEM>\n",
      "      * <Item id=107225_WA_3DEP_10mDEM>\n",
      "      * <Item id=109945_WA_3DEP_10mDEM>\n",
      "      * <Item id=109965_WA_3DEP_10mDEM>\n",
      "      * <Item id=109967_WA_3DEP_10mDEM>\n",
      "      * <Item id=107762_WA_3DEP_10mDEM>\n",
      "      * <Item id=107225_WA_3DEP_10mDEM>\n",
      "      * <Item id=109945_WA_3DEP_10mDEM>\n",
      "      * <Item id=109965_WA_3DEP_10mDEM>\n",
      "      * <Item id=109967_WA_3DEP_10mDEM>\n",
      "      * <Item id=107762_WA_3DEP_10mDEM>\n",
      "      * <Item id=107225_WA_3DEP_10mDEM>\n",
      "      * <Item id=109945_WA_3DEP_10mDEM>\n",
      "      * <Item id=109965_WA_3DEP_10mDEM>\n",
      "      * <Item id=109967_WA_3DEP_10mDEM>\n",
      "      * <Item id=107762_WA_3DEP_10mDEM>\n",
      "      * <Item id=107225_WA_3DEP_10mDEM>\n",
      "      * <Item id=109945_WA_3DEP_10mDEM>\n",
      "      * <Item id=109965_WA_3DEP_10mDEM>\n",
      "      * <Item id=109967_WA_3DEP_10mDEM>\n",
      "      * <Item id=107762_WA_3DEP_10mDEM>\n",
      "    * <Collection id=landtrendr>\n",
      "      * <Item id=109967_2021_WA_LandTrendr_8B_SWIR1-NBR_2021>\n",
      "      * <Item id=107225_2021_WA_LandTrendr_8B_SWIR1-NBR_2021>\n",
      "      * <Item id=109965_2021_WA_LandTrendr_8B_SWIR1-NBR_2021>\n",
      "      * <Item id=107762_2021_WA_LandTrendr_8B_SWIR1-NBR_2021>\n",
      "      * <Item id=109945_2021_WA_LandTrendr_8B_SWIR1-NBR_2021>\n",
      "      * <Item id=109967_2021_WA_LandTrendr_8B_SWIR1-NBR_2021>\n",
      "      * <Item id=107225_2021_WA_LandTrendr_8B_SWIR1-NBR_2021>\n",
      "      * <Item id=109965_2021_WA_LandTrendr_8B_SWIR1-NBR_2021>\n",
      "      * <Item id=107762_2021_WA_LandTrendr_8B_SWIR1-NBR_2021>\n",
      "      * <Item id=109945_2021_WA_LandTrendr_8B_SWIR1-NBR_2021>\n",
      "      * <Item id=109967_2021_WA_LandTrendr_8B_SWIR1-NBR_2021>\n",
      "      * <Item id=107225_2021_WA_LandTrendr_8B_SWIR1-NBR_2021>\n",
      "      * <Item id=109965_2021_WA_LandTrendr_8B_SWIR1-NBR_2021>\n",
      "      * <Item id=107762_2021_WA_LandTrendr_8B_SWIR1-NBR_2021>\n",
      "      * <Item id=109945_2021_WA_LandTrendr_8B_SWIR1-NBR_2021>\n",
      "      * <Item id=109967_2021_WA_LandTrendr_8B_SWIR1-NBR_2021>\n",
      "      * <Item id=107225_2021_WA_LandTrendr_8B_SWIR1-NBR_2021>\n",
      "      * <Item id=109965_2021_WA_LandTrendr_8B_SWIR1-NBR_2021>\n",
      "      * <Item id=107762_2021_WA_LandTrendr_8B_SWIR1-NBR_2021>\n",
      "      * <Item id=109945_2021_WA_LandTrendr_8B_SWIR1-NBR_2021>\n",
      "      * <Item id=109967_2021_WA_LandTrendr_8B_SWIR1-NBR_2021>\n",
      "      * <Item id=107225_2021_WA_LandTrendr_8B_SWIR1-NBR_2021>\n",
      "      * <Item id=109965_2021_WA_LandTrendr_8B_SWIR1-NBR_2021>\n",
      "      * <Item id=107762_2021_WA_LandTrendr_8B_SWIR1-NBR_2021>\n",
      "      * <Item id=109945_2021_WA_LandTrendr_8B_SWIR1-NBR_2021>\n",
      "    * <Collection id=naip>\n",
      "      * <Item id=107762_2021_Wa_NAIP_DOQQ>\n",
      "      * <Item id=107762_2021_Wa_NAIP_DOQQ>\n",
      "      * <Item id=107762_2021_Wa_NAIP_DOQQ>\n",
      "      * <Item id=107762_2021_Wa_NAIP_DOQQ>\n",
      "      * <Item id=107762_2021_Wa_NAIP_DOQQ>\n",
      "    * <Collection id=gflandsat>\n",
      "      * <Item id=109967_2021_WA_Gap_Filled_Landsat_leafon>\n",
      "      * <Item id=109965_2021_WA_Gap_Filled_Landsat_leafon>\n",
      "      * <Item id=107762_2021_WA_Gap_Filled_Landsat_leafon>\n",
      "      * <Item id=109945_2021_WA_Gap_Filled_Landsat_leafon>\n",
      "      * <Item id=107225_2021_WA_Gap_Filled_Landsat_leafon>\n",
      "      * <Item id=109967_2021_WA_Gap_Filled_Landsat_leafon>\n",
      "      * <Item id=109965_2021_WA_Gap_Filled_Landsat_leafon>\n",
      "      * <Item id=107762_2021_WA_Gap_Filled_Landsat_leafon>\n",
      "      * <Item id=109945_2021_WA_Gap_Filled_Landsat_leafon>\n",
      "      * <Item id=107225_2021_WA_Gap_Filled_Landsat_leafon>\n",
      "      * <Item id=109967_2021_WA_Gap_Filled_Landsat_leafon>\n",
      "      * <Item id=109965_2021_WA_Gap_Filled_Landsat_leafon>\n",
      "      * <Item id=107762_2021_WA_Gap_Filled_Landsat_leafon>\n",
      "      * <Item id=109945_2021_WA_Gap_Filled_Landsat_leafon>\n",
      "      * <Item id=107225_2021_WA_Gap_Filled_Landsat_leafon>\n",
      "      * <Item id=109967_2021_WA_Gap_Filled_Landsat_leafon>\n",
      "      * <Item id=109965_2021_WA_Gap_Filled_Landsat_leafon>\n",
      "      * <Item id=107762_2021_WA_Gap_Filled_Landsat_leafon>\n",
      "      * <Item id=109945_2021_WA_Gap_Filled_Landsat_leafon>\n",
      "      * <Item id=107225_2021_WA_Gap_Filled_Landsat_leafon>\n",
      "      * <Item id=109967_2021_WA_Gap_Filled_Landsat_leafon>\n",
      "      * <Item id=109965_2021_WA_Gap_Filled_Landsat_leafon>\n",
      "      * <Item id=107762_2021_WA_Gap_Filled_Landsat_leafon>\n",
      "      * <Item id=109945_2021_WA_Gap_Filled_Landsat_leafon>\n",
      "      * <Item id=107225_2021_WA_Gap_Filled_Landsat_leafon>\n",
      "    * <Collection id=dnr-2021-stands>\n",
      "      * <Item id=107225_2021_wa_dnr_stands>\n",
      "      * <Item id=109965_2021_wa_dnr_stands>\n",
      "      * <Item id=109945_2021_wa_dnr_stands>\n",
      "      * <Item id=109967_2021_wa_dnr_stands>\n",
      "      * <Item id=107762_2021_wa_dnr_stands>\n"
     ]
    }
   ],
   "source": [
    "root_catalog.describe()"
   ]
  },
  {
   "cell_type": "code",
   "execution_count": 4,
   "metadata": {},
   "outputs": [
    {
     "name": "stdout",
     "output_type": "stream",
     "text": [
      "Number of collections: 5\n",
      "Collections IDs:\n",
      "- 3dep\n",
      "- landtrendr\n",
      "- naip\n",
      "- gflandsat\n",
      "- dnr-2021-stands\n"
     ]
    }
   ],
   "source": [
    "collections = list(root_catalog.get_collections())\n",
    "\n",
    "print(f\"Number of collections: {len(collections)}\")\n",
    "print(\"Collections IDs:\")\n",
    "for collection in collections:\n",
    "    print(f\"- {collection.id}\")"
   ]
  },
  {
   "cell_type": "code",
   "execution_count": 5,
   "metadata": {},
   "outputs": [
    {
     "name": "stdout",
     "output_type": "stream",
     "text": [
      "Collection has a root child. You may proceed to the following steps.\n"
     ]
    }
   ],
   "source": [
    "collection = root_catalog.get_child(\"dnr-2021-stands\")\n",
    "if collection is None:\n",
    "    print(\"Collection is Empty. Check your downloads and try agian.\")\n",
    "else:\n",
    "    print(\"Collection has a root child. You may proceed to the following steps.\")"
   ]
  },
  {
   "cell_type": "code",
   "execution_count": 7,
   "metadata": {},
   "outputs": [
    {
     "name": "stdout",
     "output_type": "stream",
     "text": [
      "Number of items: 85\n",
      "- 107225_WA_3DEP_10mDEM\n",
      "- 109945_WA_3DEP_10mDEM\n",
      "- 109965_WA_3DEP_10mDEM\n",
      "- 109967_WA_3DEP_10mDEM\n",
      "- 107762_WA_3DEP_10mDEM\n",
      "- 107225_WA_3DEP_10mDEM\n",
      "- 109945_WA_3DEP_10mDEM\n",
      "- 109965_WA_3DEP_10mDEM\n",
      "- 109967_WA_3DEP_10mDEM\n",
      "- 107762_WA_3DEP_10mDEM\n",
      "- 107225_WA_3DEP_10mDEM\n",
      "- 109945_WA_3DEP_10mDEM\n",
      "- 109965_WA_3DEP_10mDEM\n",
      "- 109967_WA_3DEP_10mDEM\n",
      "- 107762_WA_3DEP_10mDEM\n",
      "- 107225_WA_3DEP_10mDEM\n",
      "- 109945_WA_3DEP_10mDEM\n",
      "- 109965_WA_3DEP_10mDEM\n",
      "- 109967_WA_3DEP_10mDEM\n",
      "- 107762_WA_3DEP_10mDEM\n",
      "- 107225_WA_3DEP_10mDEM\n",
      "- 109945_WA_3DEP_10mDEM\n",
      "- 109965_WA_3DEP_10mDEM\n",
      "- 109967_WA_3DEP_10mDEM\n",
      "- 107762_WA_3DEP_10mDEM\n",
      "- 109967_2021_WA_LandTrendr_8B_SWIR1-NBR_2021\n",
      "- 107225_2021_WA_LandTrendr_8B_SWIR1-NBR_2021\n",
      "- 109965_2021_WA_LandTrendr_8B_SWIR1-NBR_2021\n",
      "- 107762_2021_WA_LandTrendr_8B_SWIR1-NBR_2021\n",
      "- 109945_2021_WA_LandTrendr_8B_SWIR1-NBR_2021\n",
      "- 109967_2021_WA_LandTrendr_8B_SWIR1-NBR_2021\n",
      "- 107225_2021_WA_LandTrendr_8B_SWIR1-NBR_2021\n",
      "- 109965_2021_WA_LandTrendr_8B_SWIR1-NBR_2021\n",
      "- 107762_2021_WA_LandTrendr_8B_SWIR1-NBR_2021\n",
      "- 109945_2021_WA_LandTrendr_8B_SWIR1-NBR_2021\n",
      "- 109967_2021_WA_LandTrendr_8B_SWIR1-NBR_2021\n",
      "- 107225_2021_WA_LandTrendr_8B_SWIR1-NBR_2021\n",
      "- 109965_2021_WA_LandTrendr_8B_SWIR1-NBR_2021\n",
      "- 107762_2021_WA_LandTrendr_8B_SWIR1-NBR_2021\n",
      "- 109945_2021_WA_LandTrendr_8B_SWIR1-NBR_2021\n",
      "- 109967_2021_WA_LandTrendr_8B_SWIR1-NBR_2021\n",
      "- 107225_2021_WA_LandTrendr_8B_SWIR1-NBR_2021\n",
      "- 109965_2021_WA_LandTrendr_8B_SWIR1-NBR_2021\n",
      "- 107762_2021_WA_LandTrendr_8B_SWIR1-NBR_2021\n",
      "- 109945_2021_WA_LandTrendr_8B_SWIR1-NBR_2021\n",
      "- 109967_2021_WA_LandTrendr_8B_SWIR1-NBR_2021\n",
      "- 107225_2021_WA_LandTrendr_8B_SWIR1-NBR_2021\n",
      "- 109965_2021_WA_LandTrendr_8B_SWIR1-NBR_2021\n",
      "- 107762_2021_WA_LandTrendr_8B_SWIR1-NBR_2021\n",
      "- 109945_2021_WA_LandTrendr_8B_SWIR1-NBR_2021\n",
      "- 107762_2021_Wa_NAIP_DOQQ\n",
      "- 107762_2021_Wa_NAIP_DOQQ\n",
      "- 107762_2021_Wa_NAIP_DOQQ\n",
      "- 107762_2021_Wa_NAIP_DOQQ\n",
      "- 107762_2021_Wa_NAIP_DOQQ\n",
      "- 109967_2021_WA_Gap_Filled_Landsat_leafon\n",
      "- 109965_2021_WA_Gap_Filled_Landsat_leafon\n",
      "- 107762_2021_WA_Gap_Filled_Landsat_leafon\n",
      "- 109945_2021_WA_Gap_Filled_Landsat_leafon\n",
      "- 107225_2021_WA_Gap_Filled_Landsat_leafon\n",
      "- 109967_2021_WA_Gap_Filled_Landsat_leafon\n",
      "- 109965_2021_WA_Gap_Filled_Landsat_leafon\n",
      "- 107762_2021_WA_Gap_Filled_Landsat_leafon\n",
      "- 109945_2021_WA_Gap_Filled_Landsat_leafon\n",
      "- 107225_2021_WA_Gap_Filled_Landsat_leafon\n",
      "- 109967_2021_WA_Gap_Filled_Landsat_leafon\n",
      "- 109965_2021_WA_Gap_Filled_Landsat_leafon\n",
      "- 107762_2021_WA_Gap_Filled_Landsat_leafon\n",
      "- 109945_2021_WA_Gap_Filled_Landsat_leafon\n",
      "- 107225_2021_WA_Gap_Filled_Landsat_leafon\n",
      "- 109967_2021_WA_Gap_Filled_Landsat_leafon\n",
      "- 109965_2021_WA_Gap_Filled_Landsat_leafon\n",
      "- 107762_2021_WA_Gap_Filled_Landsat_leafon\n",
      "- 109945_2021_WA_Gap_Filled_Landsat_leafon\n",
      "- 107225_2021_WA_Gap_Filled_Landsat_leafon\n",
      "- 109967_2021_WA_Gap_Filled_Landsat_leafon\n",
      "- 109965_2021_WA_Gap_Filled_Landsat_leafon\n",
      "- 107762_2021_WA_Gap_Filled_Landsat_leafon\n",
      "- 109945_2021_WA_Gap_Filled_Landsat_leafon\n",
      "- 107225_2021_WA_Gap_Filled_Landsat_leafon\n",
      "- 107225_2021_wa_dnr_stands\n",
      "- 109965_2021_wa_dnr_stands\n",
      "- 109945_2021_wa_dnr_stands\n",
      "- 109967_2021_wa_dnr_stands\n",
      "- 107762_2021_wa_dnr_stands\n"
     ]
    }
   ],
   "source": [
    "items = list(root_catalog.get_all_items())\n",
    "\n",
    "print(f\"Number of items: {len(items)}\")\n",
    "for item in items:\n",
    "    print(f\"- {item.id}\")"
   ]
  },
  {
   "cell_type": "code",
   "execution_count": 8,
   "metadata": {},
   "outputs": [],
   "source": [
    "item = root_catalog.get_item(\"109967_2021_WA_LandTrendr_8B_SWIR1-NBR_2021\", recursive=True)"
   ]
  },
  {
   "cell_type": "code",
   "execution_count": 9,
   "metadata": {},
   "outputs": [
    {
     "data": {
      "text/plain": [
       "{'type': 'FeatureCollection',\n",
       " 'features': [{'id': '0',\n",
       "   'type': 'Feature',\n",
       "   'properties': {},\n",
       "   'geometry': {'type': 'Polygon',\n",
       "    'coordinates': [[[-121.99992924168698, 46.687241946259775],\n",
       "      [-121.99992924168698, 46.75003418461973],\n",
       "      [-122.06272148004695, 46.75003418461973],\n",
       "      [-122.06272148004695, 46.687241946259775],\n",
       "      [-121.99992924168698, 46.687241946259775]]]},\n",
       "   'bbox': [-122.06272148004695,\n",
       "    46.687241946259775,\n",
       "    -121.99992924168698,\n",
       "    46.75003418461973]}],\n",
       " 'bbox': [-122.06272148004695,\n",
       "  46.687241946259775,\n",
       "  -121.99992924168698,\n",
       "  46.75003418461973]}"
      ]
     },
     "execution_count": 9,
     "metadata": {},
     "output_type": "execute_result"
    }
   ],
   "source": [
    "item.geometry"
   ]
  },
  {
   "cell_type": "code",
   "execution_count": 10,
   "metadata": {},
   "outputs": [
    {
     "data": {
      "text/plain": [
       "datetime.datetime(2021, 6, 23, 18, 55, 31, 580000, tzinfo=tzutc())"
      ]
     },
     "execution_count": 10,
     "metadata": {},
     "output_type": "execute_result"
    }
   ],
   "source": [
    "item.datetime"
   ]
  },
  {
   "cell_type": "code",
   "execution_count": 11,
   "metadata": {},
   "outputs": [
    {
     "data": {
      "text/plain": [
       "'landtrendr'"
      ]
     },
     "execution_count": 11,
     "metadata": {},
     "output_type": "execute_result"
    }
   ],
   "source": [
    "item.collection_id"
   ]
  },
  {
   "cell_type": "code",
   "execution_count": 15,
   "metadata": {},
   "outputs": [
    {
     "data": {
      "text/plain": [
       "[-122.06272148004695,\n",
       " 46.687241946259775,\n",
       " -121.99992924168698,\n",
       " 46.75003418461973]"
      ]
     },
     "execution_count": 15,
     "metadata": {},
     "output_type": "execute_result"
    }
   ],
   "source": [
    "item.bbox"
   ]
  },
  {
   "cell_type": "code",
   "execution_count": 12,
   "metadata": {},
   "outputs": [
    {
     "data": {
      "text/plain": [
       "<Collection id=landtrendr>"
      ]
     },
     "execution_count": 12,
     "metadata": {},
     "output_type": "execute_result"
    }
   ],
   "source": [
    "item.get_collection()"
   ]
  },
  {
   "cell_type": "code",
   "execution_count": 14,
   "metadata": {},
   "outputs": [
    {
     "data": {
      "text/plain": [
       "['https://stac-extensions.github.io/eo/v1.0.0/schema.json',\n",
       " 'https://stac-extensions.github.io/projection/v1.0.0/schema.json']"
      ]
     },
     "execution_count": 14,
     "metadata": {},
     "output_type": "execute_result"
    }
   ],
   "source": [
    "item.stac_extensions"
   ]
  }
 ],
 "metadata": {
  "kernelspec": {
   "display_name": "dl-env",
   "language": "python",
   "name": "python3"
  },
  "language_info": {
   "codemirror_mode": {
    "name": "ipython",
    "version": 3
   },
   "file_extension": ".py",
   "mimetype": "text/x-python",
   "name": "python",
   "nbconvert_exporter": "python",
   "pygments_lexer": "ipython3",
   "version": "3.10.6"
  },
  "orig_nbformat": 4
 },
 "nbformat": 4,
 "nbformat_minor": 2
}
